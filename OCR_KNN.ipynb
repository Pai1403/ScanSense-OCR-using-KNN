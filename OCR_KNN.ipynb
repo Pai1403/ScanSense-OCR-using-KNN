{
  "nbformat": 4,
  "nbformat_minor": 0,
  "metadata": {
    "colab": {
      "provenance": []
    },
    "kernelspec": {
      "name": "python3",
      "display_name": "Python 3"
    },
    "language_info": {
      "name": "python"
    }
  },
  "cells": [
    {
      "cell_type": "code",
      "source": [
        "#import necessary packages\n",
        "import os\n",
        "import cv2\n",
        "import numpy as np\n",
        "import matplotlib.pyplot as plt\n",
        "from sklearn.neighbors import KNeighborsClassifier\n",
        "from sklearn.metrics import accuracy_score\n",
        "import tensorflow as tf\n",
        "from sklearn.metrics import classification_report\n",
        "from sklearn.metrics import confusion_matrix            #run this\n",
        "from sklearn.datasets import load_digits\n",
        "import pandas as pd\n",
        "%matplotlib inline\n",
        "from sklearn.datasets import fetch_openml\n",
        "from sklearn.utils import check_random_state\n",
        "from sklearn.model_selection import train_test_split\n",
        "from sklearn.preprocessing import StandardScaler\n",
        "from sklearn.model_selection import GridSearchCV\n",
        "from skimage.feature import hog\n",
        "from skimage import exposure\n"
      ],
      "metadata": {
        "id": "q5GvLrLUpN18"
      },
      "execution_count": null,
      "outputs": []
    },
    {
      "cell_type": "code",
      "source": [
        "#___data visualization of MNIST dataset_____\n",
        "\n",
        "mnist = load_digits()\n",
        "type(mnist)\n",
        "print(\"data shape:\",mnist.data.shape)\n",
        "print(\"target shape:\",mnist.target.shape)\n",
        "print(\"images shape:\",mnist.images.shape)\n",
        "# mnist.keys()\n",
        "# pd.DataFrame(mnist.data).head()\n",
        "# pd.DataFrame(mnist.target).head()                                    #run this\n",
        "fig, axes = plt.subplots(2, 10, figsize=(16, 6))\n",
        "for i in range(20):\n",
        "    axes[i//10, i %10].imshow(mnist.images[i], cmap='gray');\n",
        "    axes[i//10, i %10].axis('off')\n",
        "    axes[i//10, i %10].set_title(f\"target: {mnist.target[i]}\")\n",
        "\n",
        "plt.tight_layout()"
      ],
      "metadata": {
        "colab": {
          "base_uri": "https://localhost:8080/",
          "height": 424
        },
        "id": "zE3oUX2WVSm-",
        "outputId": "51479c43-851d-47b1-8d49-1f7ec01601ca"
      },
      "execution_count": null,
      "outputs": [
        {
          "output_type": "stream",
          "name": "stdout",
          "text": [
            "data shape: (1797, 64)\n",
            "target shape: (1797,)\n",
            "images shape: (1797, 8, 8)\n"
          ]
        },
        {
          "output_type": "display_data",
          "data": {
            "text/plain": [
              "<Figure size 1600x600 with 20 Axes>"
            ],
            "image/png": "[encoded data removed]"
          },
          "metadata": {}
        }
      ]
    },
    {
      "cell_type": "code",
      "source": [
        "# Manual test_train_split\n",
        "\n",
        "def fetch_data(test_size=10000, randomize=False, standardize=True):\n",
        "    mnist = fetch_openml('mnist_784', version=1, as_frame=False)\n",
        "    X, y = mnist.data, mnist.target\n",
        "    if randomize:\n",
        "        random_state = check_random_state(0)\n",
        "        permutation = random_state.permutation(X.shape[0])\n",
        "        X = X[permutation]\n",
        "        y = y[permutation]\n",
        "\n",
        "    X_train, X_test, y_train, y_test = train_test_split(\n",
        "        X, y, test_size=test_size, shuffle=True)\n",
        "\n",
        "    if standardize:\n",
        "        scaler = StandardScaler()\n",
        "        X_train = scaler.fit_transform(X_train)\n",
        "        X_test = scaler.transform(X_test)\n",
        "\n",
        "    return X_train, y_train, X_test, y_test\n",
        "\n",
        "if __name__ == '__main__':\n",
        "    x_train, y_train, x_test, y_test = fetch_data()\n"
      ],
      "metadata": {
        "colab": {
          "base_uri": "https://localhost:8080/"
        },
        "id": "nay_xvEI1rOC",
        "outputId": "0f55672a-e314-4250-9ff1-537c74dde160"
      },
      "execution_count": null,
      "outputs": [
        {
          "output_type": "stream",
          "name": "stderr",
          "text": [
            "/usr/local/lib/python3.10/dist-packages/sklearn/datasets/_openml.py:968: FutureWarning: The default value of `parser` will change from `'liac-arff'` to `'auto'` in 1.4. You can set `parser='auto'` to silence this warning. Therefore, an `ImportError` will be raised from 1.4 if the dataset is dense and pandas is not installed. Note that the pandas parser may return different data types. See the Notes Section in fetch_openml's API doc for details.\n",
            "  warn(\n"
          ]
        }
      ]
    },
    {
      "cell_type": "code",
      "source": [
        "\n",
        "# Grid_Search block to find the best K value\n",
        "\n",
        "\n",
        "# Load the MNIST dataset  using keras\n",
        "# mnist = tf.keras.datasets.mnist\n",
        "# (x_train, y_train), (x_test, y_test) = mnist.load_data()\n",
        "#-------------------------------------------------------------------------------------\n",
        "# Flatten the images\n",
        "x_train_flat = x_train.reshape((x_train.shape[0], -1))\n",
        "x_test_flat = x_test.reshape((x_test.shape[0], -1))\n",
        "\n",
        "# Normalize pixel values\n",
        "x_train_flat = x_train_flat / 255.0\n",
        "x_test_flat = x_test_flat / 255.0\n",
        "\n",
        "# Define the parameter grid for Grid Search\n",
        "param_grid = {'n_neighbors': [3, 5, 7, 9]}\n",
        "\n",
        "# Create a KNN model\n",
        "knn_model = KNeighborsClassifier()\n",
        "\n",
        "# Use GridSearchCV to find the best hyperparameters\n",
        "grid_search = GridSearchCV(knn_model, param_grid, cv=5)\n",
        "grid_search.fit(x_train_flat, y_train)\n",
        "\n",
        "# Print the best hyperparameters\n",
        "best_params = grid_search.best_params_\n",
        "print(\"Best Hyperparameters:\", best_params)                   #DONT RUN THIS\n",
        "\n",
        "# Get the best KNN model from the grid search\n",
        "best_knn_model = grid_search.best_estimator_\n",
        "\n",
        "# Make predictions on the test data\n",
        "y_pred = best_knn_model.predict(x_test_flat)\n",
        "\n",
        "# Print the accuracy score\n",
        "accuracy = accuracy_score(y_test, y_pred)\n",
        "print(\"Accuracy:\", accuracy)\n",
        "\n",
        "# Optionally, print other evaluation metrics or visualize the results\n",
        "# print(classification_report(y_test, y_pred))\n",
        "# print(confusion_matrix(y_test, y_pred))"
      ],
      "metadata": {
        "colab": {
          "base_uri": "https://localhost:8080/"
        },
        "id": "G0qVlF76fD8U",
        "outputId": "676e60ab-7c30-46c5-8eba-8ee60a531d60"
      },
      "execution_count": null,
      "outputs": [
        {
          "output_type": "stream",
          "name": "stdout",
          "text": [
            "Best Hyperparameters: {'n_neighbors': 3}\n",
            "Accuracy: 0.9452\n"
          ]
        }
      ]
    },
    {
      "cell_type": "code",
      "source": [
        "# # Load the MNIST dataset  using keras\n",
        "mnist = tf.keras.datasets.mnist\n",
        "(x_train, y_train), (x_test, y_test) = mnist.load_data()\n",
        "# ----------------------------------------------------------------\n",
        "\n",
        "#________train KNN MODEL______________\n",
        "# Flatten the images\n",
        "x_train_flat = x_train.reshape((x_train.shape[0], -1))\n",
        "x_test_flat = x_test.reshape((x_test.shape[0], -1))\n",
        "# Normalize pixel values to get it between 1 & 0\n",
        "x_train_flat = x_train_flat / 255.0\n",
        "x_test_flat = x_test_flat / 255.0\n",
        "# Create a KNN model                                             #RUN THIS\n",
        "knn_model = KNeighborsClassifier(n_neighbors=3)\n",
        "# Train the KNN model\n",
        "knn_model.fit(x_train_flat, y_train)\n",
        "y_pred = knn_model.predict(x_test_flat)\n",
        "\n",
        "# Print the accuracy score\n",
        "accuracy = accuracy_score(y_test, y_pred)\n",
        "print(\"Accuracy:\", accuracy)\n",
        "\n",
        "# Optionally, print other evaluation metrics or visualize the results\n",
        "# print(classification_report(y_test, y_pred)) #classification_report=precision, recall, F1-score\n",
        "# print(confusion_matrix(y_test, y_pred))  #confusion_matrix=TP,TN,FP,FN\n",
        "#knn=> flatten the image, noramlize, distance btw 2 points in feature scale,"
      ],
      "metadata": {
        "colab": {
          "base_uri": "https://localhost:8080/"
        },
        "id": "GCB5b1l7pfLX",
        "outputId": "2aa1ef29-4790-4e74-b833-1ddfa7defa23"
      },
      "execution_count": null,
      "outputs": [
        {
          "output_type": "stream",
          "name": "stdout",
          "text": [
            "Downloading data from https://storage.googleapis.com/tensorflow/tf-keras-datasets/mnist.npz\n",
            "\u001b[1m11490434/11490434\u001b[0m \u001b[32m━━━━━━━━━━━━━━━━━━━━\u001b[0m\u001b[37m\u001b[0m \u001b[1m0s\u001b[0m 0us/step\n",
            "Accuracy: 0.9705\n"
          ]
        }
      ]
    },
    {
      "cell_type": "code",
      "source": [
        "# #___use HOG to extract features_______\n",
        "\n",
        "# # Load the MNIST dataset using keras\n",
        "# mnist = tf.keras.datasets.mnist\n",
        "# (x_train, y_train), (x_test, y_test) = mnist.load_data()\n",
        "\n",
        "# # Function to extract HOG features from an image\n",
        "# def extract_hog_features(images):\n",
        "#     hog_features = []\n",
        "#     for img in images:\n",
        "#         # Calculate HOG features and their visualization\n",
        "#         features, hog_image = hog(img, pixels_per_cell=(2, 2), block_norm='L2-Hys', visualize=True)\n",
        "#         hog_features.append(features)\n",
        "#     return hog_features\n",
        "\n",
        "# # Extract HOG features for training and testing images\n",
        "# x_train_hog = extract_hog_features(x_train)\n",
        "# x_test_hog = extract_hog_features(x_test)\n",
        "\n",
        "# # Create a KNN model\n",
        "# knn_model = KNeighborsClassifier(n_neighbors=3)\n",
        "\n",
        "# # Train the KNN model                                       # This is under construction\n",
        "# knn_model.fit(x_train_hog, y_train)\n",
        "\n",
        "# # Predict using the trained model\n",
        "# y_pred = knn_model.predict(x_test_hog)\n",
        "\n",
        "# # Print the accuracy score\n",
        "# accuracy = accuracy_score(y_test, y_pred)\n",
        "# print(\"Accuracy:\", accuracy)\n",
        "\n",
        "# # Optionally, print other evaluation metrics or visualize the results\n",
        "# # print(classification_report(y_test, y_pred))\n",
        "# # print(confusion_matrix(y_test, y_pred))\n"
      ],
      "metadata": {
        "id": "hdevdE-46Y-X"
      },
      "execution_count": null,
      "outputs": []
    },
    {
      "cell_type": "code",
      "source": [
        "#___MKAE A DIRECTORY TO STORE INPUT IMAGES_____\n",
        "def mkdir(dirname):\n",
        "    try:\n",
        "        os.mkdir(dirname)                              #RUN THIS ONCE\n",
        "        print('made', dirname)\n",
        "    except FileExistsError:\n",
        "        print(dirname, 'exists')\n",
        "mkdir('digits')"
      ],
      "metadata": {
        "id": "KUipDeZEJLEl",
        "colab": {
          "base_uri": "https://localhost:8080/"
        },
        "outputId": "c12274af-bf80-4243-fad5-ae1cc153a95f"
      },
      "execution_count": null,
      "outputs": [
        {
          "output_type": "stream",
          "name": "stdout",
          "text": [
            "made digits\n"
          ]
        }
      ]
    },
    {
      "cell_type": "code",
      "source": [
        "# def preprocess_image(img):\n",
        "#     # Resize the image to the expected size (28x28)\n",
        "#     img = cv2.resize(img, (28, 28))\n",
        "\n",
        "#     # Convert to grayscale if not already\n",
        "#     if len(img.shape) == 3 and img.shape[2] == 3:\n",
        "#         img = cv2.cvtColor(img, cv2.COLOR_BGR2GRAY)\n",
        "\n",
        "#     # Apply Gaussian Blur to reduce noise\n",
        "#     img = cv2.GaussianBlur(img, (3, 3), 0)\n",
        "\n",
        "#     # Apply Bilateral Filter for edge-preserving smoothing\n",
        "#     img = cv2.bilateralFilter(img, d=9, sigmaColor=75, sigmaSpace=75)\n",
        "\n",
        "#     # Apply Adaptive Thresholding for better boundary detection\n",
        "#     img = cv2.adaptiveThreshold(img, 255, cv2.ADAPTIVE_THRESH_GAUSSIAN_C, cv2.THRESH_BINARY, 11, 2)\n",
        "\n",
        "#     # Apply Dilation to enhance features (optional based on your needs)\n",
        "#     kernel = np.ones((2, 2), np.uint8)\n",
        "#     img = cv2.dilate(img, kernel, iterations=1)\n",
        "\n",
        "#     # Invert the image if needed (depends on your requirement)\n",
        "#     img = np.invert(img)\n",
        "\n",
        "#     return img"
      ],
      "metadata": {
        "id": "ZGF6yllJe31N"
      },
      "execution_count": null,
      "outputs": []
    },
    {
      "cell_type": "code",
      "source": [
        "def preprocess_image(img):\n",
        "    # Resize the image to the expected size (28x28)\n",
        "    img = cv2.resize(img, (28, 28), interpolation=cv2.INTER_AREA)\n",
        "    # Convert to grayscale if not already\n",
        "    if len(img.shape) == 3 and img.shape[2] == 3:\n",
        "        img = cv2.cvtColor(img, cv2.COLOR_BGR2GRAY)\n",
        "    # Apply Gaussian Blur to reduce noise while preserving edges\n",
        "    img = cv2.GaussianBlur(img, (3, 3), 0)\n",
        "    img = cv2.adaptiveThreshold(img, 255, cv2.ADAPTIVE_THRESH_GAUSSIAN_C, cv2.THRESH_BINARY, 11, 2)\n",
        "    # Apply Canny Edge Detection\n",
        "    edges = cv2.Canny(img, 50, 100)  # Adjust thresholds as needed\n",
        "    # Optionally, apply dilation to enhance the edges\n",
        "    kernel = np.ones((2, 2), np.uint8)\n",
        "    edges = cv2.dilate(edges, kernel, iterations=1)\n",
        "    # Invert the image if needed (depends on your requirement)\n",
        "    img = np.invert(img)\n",
        "    return edges"
      ],
      "metadata": {
        "id": "s7PoNPfnljKH"
      },
      "execution_count": null,
      "outputs": []
    },
    {
      "cell_type": "code",
      "source": [
        "#___MAIN___\n",
        "\n",
        "image_number = 1\n",
        "while os.path.isfile(f\"digits/digit{image_number}.png\"):\n",
        "    try:\n",
        "        img = cv2.imread(f\"digits/digit{image_number}.png\")[:, :, 0]\n",
        "\n",
        "        # Check if img is None (image not loaded successfully)\n",
        "        if img is None:\n",
        "            print(f\"Error: Unable to load image {image_number}\")\n",
        "            image_number += 1\n",
        "            continue                                                    #run this\n",
        "\n",
        "        # Resize the image to match the expected size (28x28)\n",
        "        # img = cv2.resize(img, (28, 28))\n",
        "        # #preprocessing\n",
        "        # # Apply image dilation\n",
        "        # kernel = np.ones((3, 3), np.uint8)\n",
        "        # img = cv2.erode(img, kernel, iterations=1)\n",
        "        # img = np.invert(np.array([img]))\n",
        "\n",
        "        img = preprocess_image(img)\n",
        "        # Check the shape of the image\n",
        "        if img.shape != (28, 28):\n",
        "            print(f\"Error: Image shape is {img.shape}. Expected (28, 28).\")\n",
        "            image_number += 1\n",
        "            continue\n",
        "\n",
        "        # Display the processed image\n",
        "        plt.imshow(img, cmap=plt.cm.binary)\n",
        "        plt.axis('off')  # Hide axis\n",
        "        plt.show()\n",
        "\n",
        "\n",
        "        # plt.imshow(img[0], cmap=plt.cm.binary)\n",
        "        # plt.show()\n",
        "        # features = extract_features(img)\n",
        "\n",
        "\n",
        "        img_flat = img.flatten() / 255.0  # Flatten and normalize the image\n",
        "        prediction = knn_model.predict([img_flat])\n",
        "        print(f\"This is probably a {prediction[0]}\")\n",
        "    except Exception as e:\n",
        "        print(f\"Error: {e}\")\n",
        "    finally:\n",
        "        image_number += 1"
      ],
      "metadata": {
        "colab": {
          "base_uri": "https://localhost:8080/",
          "height": 1000
        },
        "id": "L7wcq2QbS5FP",
        "outputId": "8facffae-122b-4542-8b5f-e08f9fcf206e"
      },
      "execution_count": null,
      "outputs": [
        {
          "output_type": "display_data",
          "data": {
            "text/plain": [
              "<Figure size 640x480 with 1 Axes>"
            ],
            "image/png": "[encoded data removed]"
          },
          "metadata": {}
        },
        {
          "output_type": "stream",
          "name": "stdout",
          "text": [
            "This is probably a 6\n"
          ]
        },
        {
          "output_type": "display_data",
          "data": {
            "text/plain": [
              "<Figure size 640x480 with 1 Axes>"
            ],
            "image/png": "[encoded data removed]"
          },
          "metadata": {}
        },
        {
          "output_type": "stream",
          "name": "stdout",
          "text": [
            "This is probably a 9\n"
          ]
        },
        {
          "output_type": "display_data",
          "data": {
            "text/plain": [
              "<Figure size 640x480 with 1 Axes>"
            ],
            "image/png": "[encoded data removed]"
          },
          "metadata": {}
        },
        {
          "output_type": "stream",
          "name": "stdout",
          "text": [
            "This is probably a 1\n"
          ]
        },
        {
          "output_type": "display_data",
          "data": {
            "text/plain": [
              "<Figure size 640x480 with 1 Axes>"
            ],
            "image/png": "[encoded data removed]"
          },
          "metadata": {}
        },
        {
          "output_type": "stream",
          "name": "stdout",
          "text": [
            "This is probably a 2\n"
          ]
        },
        {
          "output_type": "display_data",
          "data": {
            "text/plain": [
              "<Figure size 640x480 with 1 Axes>"
            ],
            "image/png": "[encoded data removed]"
          },
          "metadata": {}
        },
        {
          "output_type": "stream",
          "name": "stdout",
          "text": [
            "This is probably a 3\n"
          ]
        },
        {
          "output_type": "display_data",
          "data": {
            "text/plain": [
              "<Figure size 640x480 with 1 Axes>"
            ],
            "image/png": "[encoded data removed]"
          },
          "metadata": {}
        },
        {
          "output_type": "stream",
          "name": "stdout",
          "text": [
            "This is probably a 4\n"
          ]
        },
        {
          "output_type": "display_data",
          "data": {
            "text/plain": [
              "<Figure size 640x480 with 1 Axes>"
            ],
            "image/png": "[encoded data removed]"
          },
          "metadata": {}
        },
        {
          "output_type": "stream",
          "name": "stdout",
          "text": [
            "This is probably a 7\n"
          ]
        }
      ]
    },
    {
      "cell_type": "code",
      "source": [],
      "metadata": {
        "id": "F_WbAt7eU_gO"
      },
      "execution_count": null,
      "outputs": []
    }
  ]
}